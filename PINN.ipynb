{
  "nbformat": 4,
  "nbformat_minor": 0,
  "metadata": {
    "colab": {
      "provenance": []
    },
    "kernelspec": {
      "name": "python3",
      "display_name": "Python 3"
    },
    "language_info": {
      "name": "python"
    }
  },
  "cells": [
    {
      "cell_type": "markdown",
      "source": [
        "# Solving a PDE using PINNs\n",
        "\n",
        "$$ \\frac{du}{dt} = \\nabla \\cdot \\Sigma \\nabla u - a(u-f_d)(u-f_r)(u-f_t) $$"
      ],
      "metadata": {
        "id": "O37vQ_8amCJE"
      }
    },
    {
      "cell_type": "code",
      "source": [
        "import torch\n",
        "import torch.nn as nn\n",
        "! pip install scikit-optimize\n",
        "import skopt\n",
        "import numpy as np\n",
        "import matplotlib.pyplot as plt\n",
        "from scipy.interpolate import griddata\n",
        "!pip install scipy\n",
        "import scipy.io\n",
        "\n",
        "#PyTorch random number generator\n",
        "torch.manual_seed(1234)\n",
        "\n",
        "# Random number generators in other libraries\n",
        "np.random.seed(1234)\n",
        "\n",
        "torch.set_default_dtype(torch.float64)"
      ],
      "metadata": {
        "colab": {
          "base_uri": "https://localhost:8080/"
        },
        "id": "eIAF5-fprclt",
        "outputId": "26aef6ce-16e9-45e2-d198-bbe9f6812a90"
      },
      "execution_count": 1,
      "outputs": [
        {
          "output_type": "stream",
          "name": "stdout",
          "text": [
            "Collecting scikit-optimize\n",
            "  Downloading scikit_optimize-0.10.2-py2.py3-none-any.whl (107 kB)\n",
            "\u001b[?25l     \u001b[90m━━━━━━━━━━━━━━━━━━━━━━━━━━━━━━━━━━━━━━━━\u001b[0m \u001b[32m0.0/107.8 kB\u001b[0m \u001b[31m?\u001b[0m eta \u001b[36m-:--:--\u001b[0m\r\u001b[2K     \u001b[91m━━━━━━━━━━━━━━━\u001b[0m\u001b[90m╺\u001b[0m\u001b[90m━━━━━━━━━━━━━━━━━━━━━━━━\u001b[0m \u001b[32m41.0/107.8 kB\u001b[0m \u001b[31m1.3 MB/s\u001b[0m eta \u001b[36m0:00:01\u001b[0m\r\u001b[2K     \u001b[90m━━━━━━━━━━━━━━━━━━━━━━━━━━━━━━━━━━━━━━━━\u001b[0m \u001b[32m107.8/107.8 kB\u001b[0m \u001b[31m1.6 MB/s\u001b[0m eta \u001b[36m0:00:00\u001b[0m\n",
            "\u001b[?25hRequirement already satisfied: joblib>=0.11 in /usr/local/lib/python3.10/dist-packages (from scikit-optimize) (1.4.2)\n",
            "Collecting pyaml>=16.9 (from scikit-optimize)\n",
            "  Downloading pyaml-24.4.0-py3-none-any.whl (24 kB)\n",
            "Requirement already satisfied: numpy>=1.20.3 in /usr/local/lib/python3.10/dist-packages (from scikit-optimize) (1.25.2)\n",
            "Requirement already satisfied: scipy>=1.1.0 in /usr/local/lib/python3.10/dist-packages (from scikit-optimize) (1.11.4)\n",
            "Requirement already satisfied: scikit-learn>=1.0.0 in /usr/local/lib/python3.10/dist-packages (from scikit-optimize) (1.2.2)\n",
            "Requirement already satisfied: packaging>=21.3 in /usr/local/lib/python3.10/dist-packages (from scikit-optimize) (24.1)\n",
            "Requirement already satisfied: PyYAML in /usr/local/lib/python3.10/dist-packages (from pyaml>=16.9->scikit-optimize) (6.0.1)\n",
            "Requirement already satisfied: threadpoolctl>=2.0.0 in /usr/local/lib/python3.10/dist-packages (from scikit-learn>=1.0.0->scikit-optimize) (3.5.0)\n",
            "Installing collected packages: pyaml, scikit-optimize\n",
            "Successfully installed pyaml-24.4.0 scikit-optimize-0.10.2\n",
            "Requirement already satisfied: scipy in /usr/local/lib/python3.10/dist-packages (1.11.4)\n",
            "Requirement already satisfied: numpy<1.28.0,>=1.21.6 in /usr/local/lib/python3.10/dist-packages (from scipy) (1.25.2)\n",
            "\u001b[31mERROR: Operation cancelled by user\u001b[0m\u001b[31m\n",
            "\u001b[0m"
          ]
        }
      ]
    },
    {
      "cell_type": "code",
      "execution_count": 2,
      "metadata": {
        "id": "P0B8jfaCl7tY"
      },
      "outputs": [],
      "source": [
        "class PDE_Net_adaptive(nn.Module):\n",
        "    def __init__(self, in_features, out_features, hidden_layers, hidden_features, use_adaptive_activation=False):\n",
        "        super(PDE_Net_adaptive, self).__init__()\n",
        "\n",
        "        self.use_adaptive_activation = use_adaptive_activation\n",
        "\n",
        "        # Initialize input, hidden, and output layers\n",
        "        self.linearIn = nn.Linear(in_features, hidden_features)\n",
        "        self.linear = nn.ModuleList([nn.Linear(hidden_features, hidden_features) for _ in range(hidden_layers)])\n",
        "        self.linearOut = nn.Linear(hidden_features, out_features)\n",
        "\n",
        "        # Adaptive activation parameters\n",
        "        if use_adaptive_activation:\n",
        "            self.n = 10\n",
        "            self.ada_act_funs = nn.ParameterList([nn.Parameter(torch.tensor(1. / self.n), requires_grad=True) for _ in range(hidden_layers)])\n",
        "\n",
        "        # Fixed activation function\n",
        "        self.act = nn.Tanh()\n",
        "\n",
        "        # Initialize weights and biases\n",
        "        self.initialize_weights()\n",
        "\n",
        "    def initialize_weights(self):\n",
        "        # He initialization for weights and zeros for biases\n",
        "        for m in self.modules():\n",
        "            if isinstance(m, nn.Linear):\n",
        "                nn.init.kaiming_normal_(m.weight, mode='fan_in', nonlinearity='tanh')\n",
        "                if m.bias is not None:\n",
        "                    nn.init.constant_(m.bias, 0)\n",
        "\n",
        "    def initial_condition(self, x, y):\n",
        "      u0 = torch.zeros_like(x)\n",
        "      mask = (x <= 0.1) & (y >= 0.45) & (y <= 0.55)\n",
        "      u0[mask] = 1.0\n",
        "      return u0\n",
        "\n",
        "    def forward(self, coord):\n",
        "        # Extract x and y coordinates and ensure they are column vectors\n",
        "        x_coord = coord[:,0].unsqueeze(1)\n",
        "        y_coord = coord[:,1].unsqueeze(1)\n",
        "        t_coord = coord[:,2].unsqueeze(1)\n",
        "\n",
        "        u0 = self.initial_condition(x_coord, y_coord)\n",
        "\n",
        "        # Forward pass through the network\n",
        "        x_out = self.act(self.linearIn(coord))\n",
        "        for i, layer in enumerate(self.linear):\n",
        "            if self.use_adaptive_activation:\n",
        "                x_out = self.act(self.n * self.ada_act_funs[i] * layer(x_out))\n",
        "            else:\n",
        "                x_out = self.act(layer(x_out))\n",
        "        x_out = self.linearOut(x_out)\n",
        "        time0_mask = t_coord==0\n",
        "        if any(time0_mask): x_out[time0_mask] = u0[time0_mask]\n",
        "\n",
        "        return x_out"
      ]
    },
    {
      "cell_type": "code",
      "source": [
        "def rhs_f(u ,params):\n",
        "  rhs = params['a']*(u - params['fr'])*(u - params['fd'])*(u - params['ft'])\n",
        "  return rhs"
      ],
      "metadata": {
        "id": "-Fv3vMjRooNe"
      },
      "execution_count": 3,
      "outputs": []
    },
    {
      "cell_type": "markdown",
      "source": [
        "# Defining loss functions for the PDEs"
      ],
      "metadata": {
        "id": "Q9rVF9kFnriu"
      }
    },
    {
      "cell_type": "code",
      "source": [
        "def eval_loss_pde(u_pred, xyt, sigmas):\n",
        "  gradients = torch.autograd.grad(u_pred, xyt, grad_outputs=torch.ones_like(u_pred), create_graph=True)[0]\n",
        "\n",
        "  dudx = gradients[:,0].reshape(-1,1)\n",
        "  dudy = gradients[:,1].reshape(-1,1)\n",
        "  dudt = gradients[:,2].reshape(-1,1)\n",
        "\n",
        "  grad_xx = torch.autograd.grad(dudx, xyt, grad_outputs=torch.ones_like(u_pred), create_graph=True)[0][:,0]\n",
        "  grad_yy = torch.autograd.grad(dudy, xyt, grad_outputs=torch.ones_like(u_pred), create_graph=True)[0][:,1]\n",
        "\n",
        "  residual_loss = torch.nn.functional.mse_loss(dudt, torch.multiply(sigmas, (grad_xx + grad_yy)).unsqueeze(1) - rhs_f(u_pred, params))\n",
        "\n",
        "  return residual_loss\n",
        "\n",
        "def eval_loss_ic(u_pred, u0):\n",
        "  ic_res = (u_pred - u0)\n",
        "  loss_ic = (ic_res).pow(2).mean()\n",
        "  return loss_ic\n"
      ],
      "metadata": {
        "id": "vDzFlkZYnoxy"
      },
      "execution_count": 4,
      "outputs": []
    },
    {
      "cell_type": "code",
      "source": [
        "def compute_relative_l2_error(u_pred, u_exact):\n",
        "    diff = u_pred - u_exact\n",
        "    error = torch.sqrt(torch.dot(diff,diff))\n",
        "    norm_true = torch.sqrt(torch.dot(u_exact,u_exact))\n",
        "    return (error / norm_true)"
      ],
      "metadata": {
        "id": "I6gcVgsqnrC-"
      },
      "execution_count": 5,
      "outputs": []
    },
    {
      "cell_type": "markdown",
      "source": [
        "Importing the training data"
      ],
      "metadata": {
        "id": "7Z8kv-2Tpn1Q"
      }
    },
    {
      "cell_type": "code",
      "source": [
        "# # !pip install scipy\n",
        "# import scipy.io\n",
        "# import numpy as np\n",
        "# import torch\n",
        "\n",
        "# # data = scipy.io.loadmat('data.mat')\n",
        "# # timesteps = data['data']['time'][0,0].flatten()\n",
        "# # xdata, ydata = np.array(data['data']['vertices'][0,0])\n",
        "# # t = np.repeat(timesteps, len(xdata)).reshape(-1,len(xdata))\n",
        "# # usol = np.array(data['data']['u'][0,0])\n",
        "# parameter_set = {'sigma_h': 9.5298e-4, 'a': 18.515, 'ft': 0.2383, 'fr': 0, 'fd': 1, 'Tf': 1}\n"
      ],
      "metadata": {
        "id": "mvPwAGhWpqoI"
      },
      "execution_count": 6,
      "outputs": []
    },
    {
      "cell_type": "markdown",
      "source": [
        "# Constructing the collocation points"
      ],
      "metadata": {
        "id": "ZA7D6SCyq-b3"
      }
    },
    {
      "cell_type": "code",
      "source": [
        "\n",
        "\n",
        "# Number of collocation points in the interior and boundary of the domain\n",
        "num_samples = 500\n",
        "\n",
        "# Define the domain and collocation points\n",
        "space   = [(0., 1.)]*3\n",
        "sampler = skopt.sampler.Hammersly(min_skip=-1, max_skip=-1)\n",
        "all_pts = np.array(sampler.generate(space, num_samples))\n",
        "train_collocation = all_pts[:, :-1]\n",
        "params = {'sigma_h': 9.5298e-4, 'a': 18.515, 'ft': 0.2383, 'fr': 0, 'fd': 1, 'Tf': 1}\n",
        "\n",
        "# Define unhealthy domains\n",
        "diseased_set = np.array([[0.25,0.65,0.1],[0.75,0.75,0.2],[0.65,0.25,0.15]], dtype=np.float32)\n",
        "diffusion_mask = np.zeros(train_collocation.shape[0], dtype=bool)\n",
        "i=0\n",
        "for center, radius in zip(diseased_set[:,:-1], diseased_set[:,-1]):\n",
        "  dist = np.linalg.norm(train_collocation - diseased_set[i,:-1], axis=1)\n",
        "  dist = np.linalg.norm(train_collocation - center, axis=1)\n",
        "  diffusion_mask = diffusion_mask | (dist <= radius)\n",
        "  i+=1\n",
        "diseased_points = train_collocation[diffusion_mask]\n",
        "healthy_points = train_collocation[~diffusion_mask]\n",
        "\n",
        "# convert all numpy arrays to Torch\n",
        "# train_collocation = torch.tensor(train_collocation)\n",
        "\n",
        "plt.scatter(diseased_points[:,0],diseased_points[:,1], color='red', s=50, marker='x', label='Collocation Points')\n",
        "plt.scatter(healthy_points[:,0],healthy_points[:,1], color='green', s=50, marker='x', label='Collocation Points')\n",
        "\n",
        "sigmas = np.ones_like(train_collocation[:,0])*9.5298e-4\n",
        "\n",
        "train_collocation = torch.tensor(train_collocation)\n",
        "sigmas = torch.tensor(sigmas)\n",
        "sigmas.required_grad = False\n",
        "all_pts = torch.tensor(all_pts)\n",
        "all_pts.requires_grad = True"
      ],
      "metadata": {
        "colab": {
          "base_uri": "https://localhost:8080/",
          "height": 430
        },
        "id": "p06v0-tqrDUn",
        "outputId": "6fc0b19a-9afa-4c69-b8ad-05a90cfafad3"
      },
      "execution_count": 7,
      "outputs": [
        {
          "output_type": "display_data",
          "data": {
            "text/plain": [
              "<Figure size 640x480 with 1 Axes>"
            ],
            "image/png": "[encoded data removed]"
          },
          "metadata": {}
        }
      ]
    },
    {
      "cell_type": "markdown",
      "source": [
        "# Initial Conditions"
      ],
      "metadata": {
        "id": "SLJTjJDaBILF"
      }
    },
    {
      "cell_type": "code",
      "source": [
        "\n",
        "\n",
        "x = [0,0.1]\n",
        "y = [0.45,0.55]\n",
        "u0 = np.zeros_like(train_collocation[:,0])\n",
        "x_mask = (train_collocation[:, 0] > x[0]) & (train_collocation[:, 0] < x[1])\n",
        "y_mask = (train_collocation[:, 1] > y[0]) & (train_collocation[:, 1] < y[1])\n",
        "\n",
        "init_mask = x_mask & y_mask\n",
        "u0[init_mask] = 1.0\n",
        "u0[~init_mask] = 0.0\n",
        "\n",
        "xi = np.linspace(min(train_collocation[:,0]), max(train_collocation[:,0]), 100)\n",
        "yi = np.linspace(min(train_collocation[:,1]), max(train_collocation[:,1]), 100)\n",
        "xi, yi = np.meshgrid(xi, yi)\n",
        "zi = griddata((train_collocation[:,0], train_collocation[:,1]), u0, (xi, yi), method='cubic')\n",
        "\n",
        "fig, ax2 = plt.subplots(figsize=(14, 6))\n",
        "\n",
        "# Plot the top view (contour plot)\n",
        "contour = ax2.contourf(xi, yi, zi, levels=100, cmap='viridis')\n",
        "plt.show()\n",
        "\n",
        "\n",
        "x_init = np.hstack((train_collocation, np.zeros_like(train_collocation[:,0]).reshape(-1,1)))\n",
        "x_init = torch.Tensor(x_init)\n",
        "u0 = torch.tensor(u0)"
      ],
      "metadata": {
        "colab": {
          "base_uri": "https://localhost:8080/",
          "height": 522
        },
        "id": "uLjRP_MyBHuk",
        "outputId": "b8f4ad57-8508-44fa-804a-37994ee53cf1"
      },
      "execution_count": 8,
      "outputs": [
        {
          "output_type": "display_data",
          "data": {
            "text/plain": [
              "<Figure size 1400x600 with 1 Axes>"
            ],
            "image/png": "[encoded data removed]"
          },
          "metadata": {}
        }
      ]
    },
    {
      "cell_type": "markdown",
      "source": [
        "# Define the network and the optimizer, and train the network"
      ],
      "metadata": {
        "id": "3_nH_rMesHUk"
      }
    },
    {
      "cell_type": "code",
      "source": [
        "model = PDE_Net_adaptive(in_features=3, out_features=1, hidden_layers=4, hidden_features=50, use_adaptive_activation=False)\n",
        "optimizer = torch.optim.Adam(model.parameters(), lr=0.05, betas=(0.9, 0.999), weight_decay=1e-5)"
      ],
      "metadata": {
        "id": "flM8hLgnrzdy"
      },
      "execution_count": 9,
      "outputs": []
    },
    {
      "cell_type": "code",
      "source": [
        "num_epochs = 4000\n",
        "\n",
        "# Track the best loss\n",
        "best_loss = np.inf\n",
        "best_model_path = 'best_model_reg.pth'"
      ],
      "metadata": {
        "id": "LYHg1lK870sS"
      },
      "execution_count": 10,
      "outputs": []
    },
    {
      "cell_type": "code",
      "source": [
        "def train_model(model, optimizer, num_epochs, inp_pts, x_init, best_model_path):\n",
        "    best_loss = float('inf')\n",
        "\n",
        "    # Dictionary to track losses\n",
        "    loss_history = {'total': [], 'pde': [], 'init': []}\n",
        "    l2_history = {'train': []}\n",
        "    w_history = {'pde': [], 'init': []}\n",
        "\n",
        "    # Define the weights for the loss terms and their optimizer\n",
        "    w_init = torch.tensor(1.0, requires_grad=True)\n",
        "    w_pde = torch.tensor(1.0, requires_grad=True)\n",
        "\n",
        "    for epoch in range(num_epochs):\n",
        "        inp_pts.requires_grad = True\n",
        "\n",
        "        def closure():\n",
        "            if torch.is_grad_enabled():\n",
        "                optimizer.zero_grad()\n",
        "\n",
        "            # Predict in the interior part and calculate PDE loss\n",
        "            u_pred_train = model(all_pts)\n",
        "            u_pred_init = model(x_init)\n",
        "            loss_pde = eval_loss_pde(u_pred_train, inp_pts, sigmas) #eval_loss_pde(u_pred, xyt, sigmas):\n",
        "\n",
        "\n",
        "            # init loss\n",
        "            loss_init = eval_loss_ic(u_pred_init, u0)\n",
        "            # Add all loss components\n",
        "            total_loss = w_pde*loss_pde + w_init*loss_init\n",
        "\n",
        "            w_history['init'].append(w_init.item())\n",
        "            w_history['pde'].append(w_pde.item())\n",
        "\n",
        "            # Log losses for analysis\n",
        "            loss_history['pde'].append(loss_pde.item())\n",
        "            loss_history['init'].append(loss_init.item())\n",
        "            loss_history['total'].append(total_loss.item())\n",
        "\n",
        "            if total_loss.requires_grad:\n",
        "                total_loss.backward()\n",
        "\n",
        "            return total_loss, loss_pde, loss_init\n",
        "\n",
        "        # Update the weights using the optimizer\n",
        "        optimizer.step(closure)\n",
        "\n",
        "        # After optimizer step, extract the losses again for logging and checks\n",
        "        total_loss, loss_pde, loss_init = closure()  # This will execute zero_grad, forward, backward again\n",
        "\n",
        "\n",
        "        # Access data without computing gradients\n",
        "        with torch.no_grad():\n",
        "            u_pred_train = model(inp_pts).squeeze()\n",
        "\n",
        "            # Compute errors\n",
        "            # l2_train = compute_relative_l2_error(u_pred_train.detach(), u_exact_train)\n",
        "            # l2_test = compute_relative_l2_error(u_pred_test.detach(), u_exact_test)\n",
        "\n",
        "            # Store error history\n",
        "            # l2_history['train'].append(l2_train.item())\n",
        "            # l2_history['test'].append(l2_test.item())\n",
        "\n",
        "            # Update w_pde and w_bc using gradient ascent\n",
        "            w_init += w_init.grad * 0.05  # Manually apply ascent step\n",
        "            w_pde += w_pde.grad * 0.05\n",
        "            w_init.grad.zero_()\n",
        "            w_pde.grad.zero_()\n",
        "\n",
        "        # Optional print statement every 100 epochs\n",
        "        if (epoch + 1) % 100 == 0:\n",
        "            print(f'Epoch [{epoch + 1:4d}/{num_epochs:4d}], Total Loss: {total_loss:.4e}, PDE Loss : {loss_pde:.4e}, Init Loss: {loss_init:.4e}') # , Train error: {l2_train:.4e}, Test error: {l2_test:.4e}')\n",
        "\n",
        "        # Save the best model\n",
        "        if total_loss < best_loss:\n",
        "            best_loss = total_loss\n",
        "            torch.save(model.state_dict(), best_model_path)\n",
        "\n",
        "    return loss_history, l2_history, w_history"
      ],
      "metadata": {
        "id": "AslCkJfM7402"
      },
      "execution_count": 11,
      "outputs": []
    },
    {
      "cell_type": "code",
      "source": [
        "losses_history, l2_history, w_history = train_model(model, optimizer, num_epochs, all_pts, x_init, best_model_path)"
      ],
      "metadata": {
        "colab": {
          "base_uri": "https://localhost:8080/"
        },
        "id": "cLGkf3Rwg1-P",
        "outputId": "a443d81d-653d-4c06-e021-3d5f5475be71"
      },
      "execution_count": null,
      "outputs": [
        {
          "output_type": "stream",
          "name": "stdout",
          "text": [
            "Epoch [ 100/20000], Total Loss: 4.9429e+06, PDE Loss : 2.9380e+00, Init Loss: 1.5872e-02\n",
            "Epoch [ 200/20000], Total Loss: 4.8506e+06, PDE Loss : 2.8831e+00, Init Loss: 1.5872e-02\n",
            "Epoch [ 300/20000], Total Loss: 4.6967e+06, PDE Loss : 2.7915e+00, Init Loss: 1.5872e-02\n",
            "Epoch [ 400/20000], Total Loss: 4.4565e+06, PDE Loss : 2.6487e+00, Init Loss: 1.5872e-02\n",
            "Epoch [ 500/20000], Total Loss: 4.0859e+06, PDE Loss : 2.4284e+00, Init Loss: 1.5872e-02\n",
            "Epoch [ 600/20000], Total Loss: 3.5236e+06, PDE Loss : 2.0942e+00, Init Loss: 1.5872e-02\n",
            "Epoch [ 700/20000], Total Loss: 2.7154e+06, PDE Loss : 1.6138e+00, Init Loss: 1.5872e-02\n",
            "Epoch [ 800/20000], Total Loss: 1.7022e+06, PDE Loss : 1.0117e+00, Init Loss: 1.5872e-02\n",
            "Epoch [ 900/20000], Total Loss: 7.4842e+05, PDE Loss : 4.4480e-01, Init Loss: 1.5872e-02\n",
            "Epoch [1000/20000], Total Loss: 1.9707e+05, PDE Loss : 1.1712e-01, Init Loss: 1.5872e-02\n",
            "Epoch [1100/20000], Total Loss: 2.9790e+04, PDE Loss : 1.7705e-02, Init Loss: 1.5872e-02\n",
            "Epoch [1200/20000], Total Loss: 3.0474e+03, PDE Loss : 1.8111e-03, Init Loss: 1.5872e-02\n",
            "Epoch [1300/20000], Total Loss: 4.4187e+02, PDE Loss : 2.6258e-04, Init Loss: 1.5872e-02\n",
            "Epoch [1400/20000], Total Loss: 2.6282e+02, PDE Loss : 1.5617e-04, Init Loss: 1.5872e-02\n",
            "Epoch [1500/20000], Total Loss: 2.5319e+02, PDE Loss : 1.5044e-04, Init Loss: 1.5872e-02\n",
            "Epoch [1600/20000], Total Loss: 2.5243e+02, PDE Loss : 1.4999e-04, Init Loss: 1.5872e-02\n",
            "Epoch [1700/20000], Total Loss: 2.5200e+02, PDE Loss : 1.4973e-04, Init Loss: 1.5872e-02\n",
            "Epoch [1800/20000], Total Loss: 2.5156e+02, PDE Loss : 1.4947e-04, Init Loss: 1.5872e-02\n",
            "Epoch [1900/20000], Total Loss: 2.5109e+02, PDE Loss : 1.4919e-04, Init Loss: 1.5872e-02\n",
            "Epoch [2000/20000], Total Loss: 2.5059e+02, PDE Loss : 1.4889e-04, Init Loss: 1.5872e-02\n",
            "Epoch [2100/20000], Total Loss: 2.5007e+02, PDE Loss : 1.4858e-04, Init Loss: 1.5872e-02\n",
            "Epoch [2200/20000], Total Loss: 2.4952e+02, PDE Loss : 1.4825e-04, Init Loss: 1.5872e-02\n",
            "Epoch [2300/20000], Total Loss: 2.4894e+02, PDE Loss : 1.4790e-04, Init Loss: 1.5872e-02\n",
            "Epoch [2400/20000], Total Loss: 2.4833e+02, PDE Loss : 1.4754e-04, Init Loss: 1.5872e-02\n",
            "Epoch [2500/20000], Total Loss: 2.4768e+02, PDE Loss : 1.4716e-04, Init Loss: 1.5872e-02\n",
            "Epoch [2600/20000], Total Loss: 2.4701e+02, PDE Loss : 1.4675e-04, Init Loss: 1.5872e-02\n",
            "Epoch [2700/20000], Total Loss: 2.4630e+02, PDE Loss : 1.4633e-04, Init Loss: 1.5872e-02\n",
            "Epoch [2800/20000], Total Loss: 2.4555e+02, PDE Loss : 1.4588e-04, Init Loss: 1.5872e-02\n",
            "Epoch [2900/20000], Total Loss: 2.4477e+02, PDE Loss : 1.4542e-04, Init Loss: 1.5872e-02\n",
            "Epoch [3000/20000], Total Loss: 2.4395e+02, PDE Loss : 1.4493e-04, Init Loss: 1.5872e-02\n",
            "Epoch [3100/20000], Total Loss: 2.4309e+02, PDE Loss : 1.4441e-04, Init Loss: 1.5872e-02\n",
            "Epoch [3200/20000], Total Loss: 2.4219e+02, PDE Loss : 1.4388e-04, Init Loss: 1.5872e-02\n",
            "Epoch [3300/20000], Total Loss: 2.4124e+02, PDE Loss : 1.4332e-04, Init Loss: 1.5872e-02\n",
            "Epoch [3400/20000], Total Loss: 2.4026e+02, PDE Loss : 1.4273e-04, Init Loss: 1.5872e-02\n",
            "Epoch [3500/20000], Total Loss: 2.3923e+02, PDE Loss : 1.4211e-04, Init Loss: 1.5872e-02\n",
            "Epoch [3600/20000], Total Loss: 2.3815e+02, PDE Loss : 1.4147e-04, Init Loss: 1.5872e-02\n",
            "Epoch [3700/20000], Total Loss: 2.3703e+02, PDE Loss : 1.4080e-04, Init Loss: 1.5872e-02\n",
            "Epoch [3800/20000], Total Loss: 2.3585e+02, PDE Loss : 1.4010e-04, Init Loss: 1.5872e-02\n",
            "Epoch [3900/20000], Total Loss: 2.3463e+02, PDE Loss : 1.3937e-04, Init Loss: 1.5872e-02\n",
            "Epoch [4000/20000], Total Loss: 2.3335e+02, PDE Loss : 1.3861e-04, Init Loss: 1.5872e-02\n",
            "Epoch [4100/20000], Total Loss: 2.3202e+02, PDE Loss : 1.3782e-04, Init Loss: 1.5872e-02\n",
            "Epoch [4200/20000], Total Loss: 2.3063e+02, PDE Loss : 1.3700e-04, Init Loss: 1.5872e-02\n",
            "Epoch [4300/20000], Total Loss: 2.2919e+02, PDE Loss : 1.3614e-04, Init Loss: 1.5872e-02\n",
            "Epoch [4400/20000], Total Loss: 2.2769e+02, PDE Loss : 1.3525e-04, Init Loss: 1.5872e-02\n",
            "Epoch [4500/20000], Total Loss: 2.2613e+02, PDE Loss : 1.3432e-04, Init Loss: 1.5872e-02\n",
            "Epoch [4600/20000], Total Loss: 2.2451e+02, PDE Loss : 1.3335e-04, Init Loss: 1.5872e-02\n",
            "Epoch [4700/20000], Total Loss: 2.2283e+02, PDE Loss : 1.3235e-04, Init Loss: 1.5872e-02\n",
            "Epoch [4800/20000], Total Loss: 2.2108e+02, PDE Loss : 1.3131e-04, Init Loss: 1.5872e-02\n",
            "Epoch [4900/20000], Total Loss: 2.1927e+02, PDE Loss : 1.3023e-04, Init Loss: 1.5872e-02\n",
            "Epoch [5000/20000], Total Loss: 2.1740e+02, PDE Loss : 1.2912e-04, Init Loss: 1.5872e-02\n",
            "Epoch [5100/20000], Total Loss: 2.1545e+02, PDE Loss : 1.2796e-04, Init Loss: 1.5872e-02\n",
            "Epoch [5200/20000], Total Loss: 2.1344e+02, PDE Loss : 1.2676e-04, Init Loss: 1.5872e-02\n",
            "Epoch [5300/20000], Total Loss: 2.1136e+02, PDE Loss : 1.2553e-04, Init Loss: 1.5872e-02\n",
            "Epoch [5400/20000], Total Loss: 2.0921e+02, PDE Loss : 1.2425e-04, Init Loss: 1.5872e-02\n",
            "Epoch [5500/20000], Total Loss: 2.0699e+02, PDE Loss : 1.2293e-04, Init Loss: 1.5872e-02\n",
            "Epoch [5600/20000], Total Loss: 2.0471e+02, PDE Loss : 1.2157e-04, Init Loss: 1.5872e-02\n",
            "Epoch [5700/20000], Total Loss: 2.0235e+02, PDE Loss : 1.2016e-04, Init Loss: 1.5872e-02\n",
            "Epoch [5800/20000], Total Loss: 1.9992e+02, PDE Loss : 1.1872e-04, Init Loss: 1.5872e-02\n",
            "Epoch [5900/20000], Total Loss: 1.9742e+02, PDE Loss : 1.1723e-04, Init Loss: 1.5872e-02\n",
            "Epoch [6000/20000], Total Loss: 1.9484e+02, PDE Loss : 1.1570e-04, Init Loss: 1.5872e-02\n",
            "Epoch [6100/20000], Total Loss: 1.9220e+02, PDE Loss : 1.1413e-04, Init Loss: 1.5872e-02\n",
            "Epoch [6200/20000], Total Loss: 1.8950e+02, PDE Loss : 1.1252e-04, Init Loss: 1.5872e-02\n",
            "Epoch [6300/20000], Total Loss: 1.8672e+02, PDE Loss : 1.1087e-04, Init Loss: 1.5872e-02\n",
            "Epoch [6400/20000], Total Loss: 1.8387e+02, PDE Loss : 1.0917e-04, Init Loss: 1.5872e-02\n",
            "Epoch [6500/20000], Total Loss: 1.8096e+02, PDE Loss : 1.0744e-04, Init Loss: 1.5872e-02\n",
            "Epoch [6600/20000], Total Loss: 1.7799e+02, PDE Loss : 1.0567e-04, Init Loss: 1.5872e-02\n",
            "Epoch [6700/20000], Total Loss: 1.7495e+02, PDE Loss : 1.0387e-04, Init Loss: 1.5872e-02\n",
            "Epoch [6800/20000], Total Loss: 1.7186e+02, PDE Loss : 1.0203e-04, Init Loss: 1.5872e-02\n",
            "Epoch [6900/20000], Total Loss: 1.6870e+02, PDE Loss : 1.0015e-04, Init Loss: 1.5872e-02\n",
            "Epoch [7000/20000], Total Loss: 1.6549e+02, PDE Loss : 9.8241e-05, Init Loss: 1.5872e-02\n",
            "Epoch [7100/20000], Total Loss: 1.6223e+02, PDE Loss : 9.6302e-05, Init Loss: 1.5872e-02\n",
            "Epoch [7200/20000], Total Loss: 1.5892e+02, PDE Loss : 9.4333e-05, Init Loss: 1.5872e-02\n",
            "Epoch [7300/20000], Total Loss: 1.5557e+02, PDE Loss : 9.2337e-05, Init Loss: 1.5872e-02\n",
            "Epoch [7400/20000], Total Loss: 1.5217e+02, PDE Loss : 9.0317e-05, Init Loss: 1.5872e-02\n",
            "Epoch [7500/20000], Total Loss: 1.4873e+02, PDE Loss : 8.8273e-05, Init Loss: 1.5872e-02\n",
            "Epoch [7600/20000], Total Loss: 1.4526e+02, PDE Loss : 8.6210e-05, Init Loss: 1.5872e-02\n",
            "Epoch [7700/20000], Total Loss: 1.4176e+02, PDE Loss : 8.4128e-05, Init Loss: 1.5872e-02\n",
            "Epoch [7800/20000], Total Loss: 1.3824e+02, PDE Loss : 8.2032e-05, Init Loss: 1.5872e-02\n",
            "Epoch [7900/20000], Total Loss: 1.3469e+02, PDE Loss : 7.9923e-05, Init Loss: 1.5872e-02\n",
            "Epoch [8000/20000], Total Loss: 1.3113e+02, PDE Loss : 7.7804e-05, Init Loss: 1.5872e-02\n",
            "Epoch [8100/20000], Total Loss: 1.2756e+02, PDE Loss : 7.5679e-05, Init Loss: 1.5872e-02\n",
            "Epoch [8200/20000], Total Loss: 1.2398e+02, PDE Loss : 7.3549e-05, Init Loss: 1.5872e-02\n",
            "Epoch [8300/20000], Total Loss: 1.2040e+02, PDE Loss : 7.1419e-05, Init Loss: 1.5872e-02\n",
            "Epoch [8400/20000], Total Loss: 1.1682e+02, PDE Loss : 6.9291e-05, Init Loss: 1.5872e-02\n",
            "Epoch [8500/20000], Total Loss: 1.1325e+02, PDE Loss : 6.7168e-05, Init Loss: 1.5872e-02\n",
            "Epoch [8600/20000], Total Loss: 1.0969e+02, PDE Loss : 6.5052e-05, Init Loss: 1.5872e-02\n",
            "Epoch [8700/20000], Total Loss: 1.0615e+02, PDE Loss : 6.2948e-05, Init Loss: 1.5872e-02\n",
            "Epoch [8800/20000], Total Loss: 1.0264e+02, PDE Loss : 6.0858e-05, Init Loss: 1.5872e-02\n",
            "Epoch [8900/20000], Total Loss: 9.9150e+01, PDE Loss : 5.8784e-05, Init Loss: 1.5872e-02\n",
            "Epoch [9000/20000], Total Loss: 9.5696e+01, PDE Loss : 5.6730e-05, Init Loss: 1.5872e-02\n",
            "Epoch [9100/20000], Total Loss: 9.2280e+01, PDE Loss : 5.4698e-05, Init Loss: 1.5872e-02\n",
            "Epoch [9200/20000], Total Loss: 8.8905e+01, PDE Loss : 5.2691e-05, Init Loss: 1.5872e-02\n",
            "Epoch [9300/20000], Total Loss: 8.5577e+01, PDE Loss : 5.0711e-05, Init Loss: 1.5872e-02\n",
            "Epoch [9400/20000], Total Loss: 8.2298e+01, PDE Loss : 4.8761e-05, Init Loss: 1.5872e-02\n",
            "Epoch [9500/20000], Total Loss: 7.9073e+01, PDE Loss : 4.6843e-05, Init Loss: 1.5872e-02\n",
            "Epoch [9600/20000], Total Loss: 7.5906e+01, PDE Loss : 4.4959e-05, Init Loss: 1.5872e-02\n",
            "Epoch [9700/20000], Total Loss: 7.2800e+01, PDE Loss : 4.3111e-05, Init Loss: 1.5872e-02\n",
            "Epoch [9800/20000], Total Loss: 6.9757e+01, PDE Loss : 4.1302e-05, Init Loss: 1.5872e-02\n",
            "Epoch [9900/20000], Total Loss: 6.6781e+01, PDE Loss : 3.9531e-05, Init Loss: 1.5872e-02\n",
            "Epoch [10000/20000], Total Loss: 6.3874e+01, PDE Loss : 3.7802e-05, Init Loss: 1.5872e-02\n",
            "Epoch [10100/20000], Total Loss: 6.1038e+01, PDE Loss : 3.6115e-05, Init Loss: 1.5872e-02\n",
            "Epoch [10200/20000], Total Loss: 5.8276e+01, PDE Loss : 3.4472e-05, Init Loss: 1.5872e-02\n",
            "Epoch [10300/20000], Total Loss: 5.5589e+01, PDE Loss : 3.2874e-05, Init Loss: 1.5872e-02\n",
            "Epoch [10400/20000], Total Loss: 5.2978e+01, PDE Loss : 3.1321e-05, Init Loss: 1.5872e-02\n",
            "Epoch [10500/20000], Total Loss: 5.0445e+01, PDE Loss : 2.9814e-05, Init Loss: 1.5872e-02\n",
            "Epoch [10600/20000], Total Loss: 4.7990e+01, PDE Loss : 2.8353e-05, Init Loss: 1.5872e-02\n",
            "Epoch [10700/20000], Total Loss: 4.5614e+01, PDE Loss : 2.6940e-05, Init Loss: 1.5872e-02\n",
            "Epoch [10800/20000], Total Loss: 4.3318e+01, PDE Loss : 2.5574e-05, Init Loss: 1.5872e-02\n",
            "Epoch [10900/20000], Total Loss: 4.1102e+01, PDE Loss : 2.4255e-05, Init Loss: 1.5872e-02\n",
            "Epoch [11000/20000], Total Loss: 3.8965e+01, PDE Loss : 2.2983e-05, Init Loss: 1.5872e-02\n",
            "Epoch [11100/20000], Total Loss: 3.6907e+01, PDE Loss : 2.1759e-05, Init Loss: 1.5872e-02\n",
            "Epoch [11200/20000], Total Loss: 3.4928e+01, PDE Loss : 2.0581e-05, Init Loss: 1.5872e-02\n",
            "Epoch [11300/20000], Total Loss: 3.3027e+01, PDE Loss : 1.9450e-05, Init Loss: 1.5872e-02\n",
            "Epoch [11400/20000], Total Loss: 3.1203e+01, PDE Loss : 1.8364e-05, Init Loss: 1.5872e-02\n",
            "Epoch [11500/20000], Total Loss: 2.9455e+01, PDE Loss : 1.7324e-05, Init Loss: 1.5872e-02\n",
            "Epoch [11600/20000], Total Loss: 2.7782e+01, PDE Loss : 1.6328e-05, Init Loss: 1.5872e-02\n",
            "Epoch [11700/20000], Total Loss: 2.6183e+01, PDE Loss : 1.5376e-05, Init Loss: 1.5872e-02\n",
            "Epoch [11800/20000], Total Loss: 2.4656e+01, PDE Loss : 1.4467e-05, Init Loss: 1.5872e-02\n",
            "Epoch [11900/20000], Total Loss: 2.3199e+01, PDE Loss : 1.3600e-05, Init Loss: 1.5872e-02\n",
            "Epoch [12000/20000], Total Loss: 2.1812e+01, PDE Loss : 1.2774e-05, Init Loss: 1.5872e-02\n",
            "Epoch [12100/20000], Total Loss: 2.0492e+01, PDE Loss : 1.1988e-05, Init Loss: 1.5872e-02\n",
            "Epoch [12200/20000], Total Loss: 1.9238e+01, PDE Loss : 1.1241e-05, Init Loss: 1.5872e-02\n",
            "Epoch [12300/20000], Total Loss: 1.8047e+01, PDE Loss : 1.0532e-05, Init Loss: 1.5872e-02\n",
            "Epoch [12400/20000], Total Loss: 1.6918e+01, PDE Loss : 9.8598e-06, Init Loss: 1.5872e-02\n",
            "Epoch [12500/20000], Total Loss: 1.5850e+01, PDE Loss : 9.2232e-06, Init Loss: 1.5872e-02\n",
            "Epoch [12600/20000], Total Loss: 1.4839e+01, PDE Loss : 8.6210e-06, Init Loss: 1.5872e-02\n",
            "Epoch [12700/20000], Total Loss: 1.3885e+01, PDE Loss : 8.0522e-06, Init Loss: 1.5872e-02\n",
            "Epoch [12800/20000], Total Loss: 1.2984e+01, PDE Loss : 7.5156e-06, Init Loss: 1.5872e-02\n",
            "Epoch [12900/20000], Total Loss: 1.2136e+01, PDE Loss : 7.0100e-06, Init Loss: 1.5872e-02\n",
            "Epoch [13000/20000], Total Loss: 1.1338e+01, PDE Loss : 6.5343e-06, Init Loss: 1.5872e-02\n",
            "Epoch [13100/20000], Total Loss: 1.0588e+01, PDE Loss : 6.0873e-06, Init Loss: 1.5872e-02\n",
            "Epoch [13200/20000], Total Loss: 9.8851e+00, PDE Loss : 5.6678e-06, Init Loss: 1.5872e-02\n",
            "Epoch [13300/20000], Total Loss: 9.2264e+00, PDE Loss : 5.2748e-06, Init Loss: 1.5872e-02\n",
            "Epoch [13400/20000], Total Loss: 8.6102e+00, PDE Loss : 4.9071e-06, Init Loss: 1.5872e-02\n",
            "Epoch [13500/20000], Total Loss: 8.0348e+00, PDE Loss : 4.5637e-06, Init Loss: 1.5872e-02\n",
            "Epoch [13600/20000], Total Loss: 7.4984e+00, PDE Loss : 4.2434e-06, Init Loss: 1.5872e-02\n",
            "Epoch [13700/20000], Total Loss: 6.9991e+00, PDE Loss : 3.9451e-06, Init Loss: 1.5872e-02\n",
            "Epoch [13800/20000], Total Loss: 6.5352e+00, PDE Loss : 3.6680e-06, Init Loss: 1.5872e-02\n",
            "Epoch [13900/20000], Total Loss: 6.1050e+00, PDE Loss : 3.4108e-06, Init Loss: 1.5872e-02\n",
            "Epoch [14000/20000], Total Loss: 5.7069e+00, PDE Loss : 3.1727e-06, Init Loss: 1.5872e-02\n",
            "Epoch [14100/20000], Total Loss: 5.3391e+00, PDE Loss : 2.9526e-06, Init Loss: 1.5872e-02\n",
            "Epoch [14200/20000], Total Loss: 5.0002e+00, PDE Loss : 2.7497e-06, Init Loss: 1.5872e-02\n",
            "Epoch [14300/20000], Total Loss: 4.6885e+00, PDE Loss : 2.5629e-06, Init Loss: 1.5872e-02\n",
            "Epoch [14400/20000], Total Loss: 4.4025e+00, PDE Loss : 2.3915e-06, Init Loss: 1.5872e-02\n",
            "Epoch [14500/20000], Total Loss: 4.1407e+00, PDE Loss : 2.2344e-06, Init Loss: 1.5872e-02\n",
            "Epoch [14600/20000], Total Loss: 3.9018e+00, PDE Loss : 2.0909e-06, Init Loss: 1.5872e-02\n",
            "Epoch [14700/20000], Total Loss: 3.6842e+00, PDE Loss : 1.9601e-06, Init Loss: 1.5872e-02\n",
            "Epoch [14800/20000], Total Loss: 3.4867e+00, PDE Loss : 1.8412e-06, Init Loss: 1.5872e-02\n",
            "Epoch [14900/20000], Total Loss: 3.3080e+00, PDE Loss : 1.7335e-06, Init Loss: 1.5872e-02\n",
            "Epoch [15000/20000], Total Loss: 3.1466e+00, PDE Loss : 1.6361e-06, Init Loss: 1.5872e-02\n",
            "Epoch [15100/20000], Total Loss: 3.0014e+00, PDE Loss : 1.5483e-06, Init Loss: 1.5872e-02\n",
            "Epoch [15200/20000], Total Loss: 2.8712e+00, PDE Loss : 1.4694e-06, Init Loss: 1.5872e-02\n",
            "Epoch [15300/20000], Total Loss: 2.7548e+00, PDE Loss : 1.3988e-06, Init Loss: 1.5872e-02\n"
          ]
        }
      ]
    },
    {
      "cell_type": "code",
      "source": [
        "testdata = scipy.io.loadmat('data.mat')\n",
        "timesteps = testdata['data']['time'][0,0].flatten()\n",
        "xdata, ydata = np.array(testdata['data']['vertices'][0,0])\n",
        "t = np.repeat(timesteps, len(xdata)).reshape(-1,len(xdata))\n",
        "usol = np.array(testdata['data']['u'][0,0])\n",
        "\n",
        "np.random.seed(1234)\n",
        "random_time = np.random.randint(351, size=1)\n",
        "test_collocation = np.hstack((xdata.reshape(-1,1), ydata.reshape(-1,1)))\n",
        "utest = usol[:, random_time]\n",
        "test_collocation = np.hstack((test_collocation, np.repeat(random_time, test_collocation.shape[0]).reshape(-1,1)))\n",
        "test_collocation = torch.tensor(test_collocation)\n",
        "test_collocation.requires_grad = True\n",
        "\n",
        "model.load_state_dict(torch.load(best_model_path))\n",
        "\n",
        "u_nn_domain = model(test_collocation)\n",
        "\n",
        "# Create grid coordinates\n",
        "xi = np.linspace(min(xdata), max(xdata), 100)\n",
        "yi = np.linspace(min(ydata), max(ydata), 100)\n",
        "xi, yi = np.meshgrid(xi, yi)\n",
        "\n",
        "# Create the figure and subplots\n",
        "fig, axs = plt.subplots(2, 2, figsize=(10, 8))\n",
        "\n",
        "# Plot the contour in the first subplot\n",
        "ax = axs[0, 0]\n",
        "zi = griddata((xdata, ydata), utest.squeeze(), (xi, yi), method='cubic')\n",
        "contour = ax.contourf(xi, yi, zi, levels=100, cmap='viridis')\n",
        "fig.colorbar(contour, ax=ax)\n",
        "ax.set_title('Top View')\n",
        "ax.set_xlabel('X axis')\n",
        "ax.set_ylabel('Y axis')\n",
        "\n",
        "ax = axs[0, 1]\n",
        "zi1 = griddata((xdata, ydata), u_nn_domain.detach().numpy().squeeze(), (xi, yi), method='cubic')\n",
        "contour = ax.contourf(xi, yi, zi1, levels=100, cmap='viridis')\n",
        "fig.colorbar(contour, ax=ax)\n",
        "ax.set_title('Top View')\n",
        "ax.set_xlabel('X axis')\n",
        "ax.set_ylabel('Y axis')\n",
        "\n",
        "plt.show()"
      ],
      "metadata": {
        "id": "lxaJ9EAShEiy"
      },
      "execution_count": null,
      "outputs": []
    },
    {
      "cell_type": "code",
      "source": [],
      "metadata": {
        "id": "jQtrmU8JgSxJ"
      },
      "execution_count": null,
      "outputs": []
    }
  ]
}